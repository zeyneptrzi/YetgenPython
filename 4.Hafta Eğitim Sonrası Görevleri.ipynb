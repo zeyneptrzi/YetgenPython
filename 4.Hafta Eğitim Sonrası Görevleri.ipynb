{
 "cells": [
  {
   "cell_type": "markdown",
   "metadata": {},
   "source": [
    "# Problem 1\n",
    "`ogrenciler` adında bir sözlük oluşturunuz. Kullanıcıdan döngü yardımıyla 3 öğrenci için veri girmesini isteyerek öğrencilerin sırasıyla okul numarası, isim, soy isim, telefon numarası ve doğum tarihi bilgilerini alınız. Aldığınız öğrenci bilgilerini yine aynı döngü yardımıyla `ogrenciler` adındaki sözlükte saklayınız. Daha sonra öğrenci bilgilerinin bulunduğu sözlük yapısını ekrana bastırınız.\n",
    "\n"
   ]
  },
  {
   "cell_type": "code",
   "execution_count": 2,
   "metadata": {},
   "outputs": [
    {
     "name": "stdout",
     "output_type": "stream",
     "text": [
      "['terzi', '543', '04839848', '03/19/2002']\n"
     ]
    }
   ],
   "source": [
    "ogrenciler= {\"kerem\":[\"terzi\",\"543\",\"04839848\",\"03/19/2002\"], \"ali\":[\"alkan\",\"4930\",\"084938493\",\"11/22/2001\"],\"nil\":[\"sayıl\",\"393\",\"089384\",\"20/09/2006\"]}\n",
    "isim= input(\"\")\n",
    "\n",
    "if isim in ogrenciler:\n",
    "     print(ogrenciler[isim])"
   ]
  },
  {
   "cell_type": "markdown",
   "metadata": {},
   "source": [
    "# Problem 2\n",
    "\n",
    "### a - Biraz ısınarak başlayalım!\n",
    "\n",
    "```\n",
    "numbers = [5,10,10,15,15,15,20,20,20,20]\n",
    "```\n",
    "\n",
    "Yukarıda `numbers` adında 10 elemanlı bir liste verilmiştir. Bu listenin her elemanını kontrol eden ve tekrar eden elemanları bir kez olacak şekilde başka bir listeye kopyalayan bir program yazınız. Son olarak oluşturduğunuz listeyi ekrana bastırınız.\n",
    "\n",
    "\n",
    "\n",
    "\n",
    "```\n",
    ">Output\n",
    "[5, 10, 15, 20]\n",
    "```\n"
   ]
  },
  {
   "cell_type": "code",
   "execution_count": 5,
   "metadata": {},
   "outputs": [
    {
     "name": "stdout",
     "output_type": "stream",
     "text": [
      "{10, 20, 5, 15}\n"
     ]
    }
   ],
   "source": [
    "numbers={5,10,10,15,15,20,20,20,20,20}\n",
    "print(numbers)"
   ]
  },
  {
   "cell_type": "markdown",
   "metadata": {},
   "source": [
    "### 🌶️ b) Hadi işi biraz daha zorlaştıralım! \n",
    "\n",
    "\n",
    "Şimdiyse senden `numbers` isimli listedeki tekrar eden elemanları `repeatNumbers` adındaki listeye; tekrar etmeyen elemanları `uniqueNumbers`adındaki listeye kopyalayan yazmanı ve listeleri ekrana bastırmanı bekliyoruz\n",
    "\n",
    "```\n",
    ">Output\n",
    "Tekrar Eden Elemanlar: [10, 10, 15, 15, 15, 20, 20, 20, 20]\n",
    "Tekrar Etmeyen Elemanlar: [5]\n",
    "```"
   ]
  },
  {
   "cell_type": "code",
   "execution_count": 3,
   "metadata": {},
   "outputs": [
    {
     "name": "stdout",
     "output_type": "stream",
     "text": [
      "Tekrar Eden Elemanlar: [10, 15, 20]\n",
      "Tekrar Etmeyen Elemanlar: [5]\n"
     ]
    }
   ],
   "source": [
    "numbers = [10, 15, 20, 10, 15, 20, 20, 15, 5]\n",
    "repeatNumbers = []\n",
    "uniqueNumbers = []\n",
    "\n",
    "for num in numbers:\n",
    "    if num not in uniqueNumbers:\n",
    "        uniqueNumbers.append(num)\n",
    "    else:\n",
    "        if num not in repeatNumbers:\n",
    "            repeatNumbers.append(num)\n",
    "\n",
    "print(\"Tekrar Eden Elemanlar:\", repeatNumbers )\n",
    "print(\"Tekrar Etmeyen Elemanlar:\", list(set(uniqueNumbers)-set(repeatNumbers)))\n"
   ]
  },
  {
   "cell_type": "markdown",
   "metadata": {},
   "source": [
    "# Problem 3\n",
    "sn1 = {1,2,3,4,5}\n",
    "\n",
    "sn2 = {4,5,6,7,8}\n",
    "\n",
    " Verilen 2 adet küme için kesişimlerini, farklarını ve birleşimlerini bulunuz. "
   ]
  },
  {
   "cell_type": "code",
   "execution_count": 4,
   "metadata": {},
   "outputs": [
    {
     "name": "stdout",
     "output_type": "stream",
     "text": [
      "kesişim= {4, 5}, fark={1, 2, 3}, birleşim={1, 2, 3, 4, 5, 6, 7, 8}\n"
     ]
    }
   ],
   "source": [
    "sn1 = {1,2,3,4,5}\n",
    "\n",
    "sn2 = {4,5,6,7,8}\n",
    "\n",
    "kesişim= sn1.intersection(sn2)\n",
    "fark= sn1.difference(sn2)\n",
    "birleşim= sn1.union(sn2)\n",
    "\n",
    "print(f\"kesişim= {kesişim}, fark={fark}, birleşim={birleşim}\")"
   ]
  },
  {
   "cell_type": "markdown",
   "metadata": {},
   "source": [
    "# Problem 4\n",
    "\n",
    "Buradaki işlemlerimizin tamamı stringler içindir. Aşağıda verilecek olan metodlar için kendinizin örnek yaratması gerekmektedir. \n",
    "\n",
    "Örneğin `upper` için `string` değişkeni oluştururken` k = \"BAC\"` şeklinde oluşturmayınız. Bunun yerine k değişkenini `k = \"bac`\" şeklinde oluşturmanız `upper` metodundaki değişimi görebilmeniz için daha iyi olacaktır.\n",
    "\n",
    "Bütün metodlardaki değişimin gözle görülür şekilde değişimi beklenmektedir.\n",
    "\n",
    "\n",
    "1- capitalize(), lower(), upper(), swapcase(), title(), replace()\n",
    "\n",
    "2- endswith(), startswith(), find(), index(), count()\n",
    "\n",
    "3- split(), strip(), join(), islower(), isalpha(), isdigit()\n",
    "\n",
    "\n",
    "Yukarıdaki `string` metodlarındaki değişimleri görebildiğimiz bir program yazınız.\n"
   ]
  },
  {
   "cell_type": "code",
   "execution_count": 8,
   "metadata": {},
   "outputs": [
    {
     "name": "stdout",
     "output_type": "stream",
     "text": [
      "hello world\n",
      "Hello world\n",
      "HELLO WORLD\n",
      "hello world\n",
      "hello world\n",
      "HELLO WORLD\n",
      "Hello World\n",
      "hELLO wORLD\n",
      "hello world\n",
      "Hello World\n",
      "hello world\n",
      "hella warld\n",
      "True\n",
      "True\n",
      "6\n",
      "6\n",
      "2\n",
      " hello world \n",
      "hello world\n",
      "hello-world\n",
      "True\n",
      "True\n",
      "True\n"
     ]
    }
   ],
   "source": [
    "\n",
    "s1 = \"hello world\"\n",
    "print( s1)\n",
    "s1 = s1.capitalize()\n",
    "print( s1)\n",
    "\n",
    "s2 = \"HELLO WORLD\"\n",
    "print( s2)\n",
    "s2 = s2.lower()\n",
    "print( s2)\n",
    "\n",
    "s3 = \"hello world\"\n",
    "print(s3)\n",
    "s3 = s3.upper()\n",
    "print(s3)\n",
    "\n",
    "s4 = \"Hello World\"\n",
    "print(s4)\n",
    "s4 = s4.swapcase()\n",
    "print(s4)\n",
    "\n",
    "s5 = \"hello world\"\n",
    "print(s5)\n",
    "s5 = s5.title()\n",
    "print(s5)\n",
    "\n",
    "s6 = \"hello world\"\n",
    "print( s6)\n",
    "s6 = s6.replace(\"o\", \"a\")\n",
    "print( s6)\n",
    "\n",
    "s7 = \"hello world\"\n",
    "print( s7.endswith(\"world\"))\n",
    "\n",
    "s8 = \"hello world\"\n",
    "print(s8.startswith(\"hello\"))\n",
    "\n",
    "s9 = \"hello world\"\n",
    "print(s9.find(\"world\"))\n",
    "\n",
    "s10 = \"hello world\"\n",
    "print(s10.index(\"world\"))\n",
    "\n",
    "s11 = \"hello world\"\n",
    "print(s11.count(\"o\"))\n",
    "\n",
    "\n",
    "s12 = \" hello world \"\n",
    "print(s12)\n",
    "s12 = s12.strip()\n",
    "print(s12)\n",
    "\n",
    "s13 = [\"hello\", \"world\"]\n",
    "s13 = \"-\".join(s13)\n",
    "print( s13)\n",
    "\n",
    "s14 = \"hello world\"\n",
    "print(s14.islower())\n",
    "\n",
    "s15 = \"helloworld\"\n",
    "print(s15.isalpha())\n",
    "\n",
    "s16 = \"12345\"\n",
    "print(s16.isdigit())\n"
   ]
  }
 ],
 "metadata": {
  "kernelspec": {
   "display_name": "Python 3.10.5 64-bit",
   "language": "python",
   "name": "python3"
  },
  "language_info": {
   "codemirror_mode": {
    "name": "ipython",
    "version": 3
   },
   "file_extension": ".py",
   "mimetype": "text/x-python",
   "name": "python",
   "nbconvert_exporter": "python",
   "pygments_lexer": "ipython3",
   "version": "3.9.13"
  },
  "orig_nbformat": 4,
  "vscode": {
   "interpreter": {
    "hash": "5026d2d6e7aaaaba093def813beadff083d8733e4a511af01735cbabd156995d"
   }
  }
 },
 "nbformat": 4,
 "nbformat_minor": 2
}

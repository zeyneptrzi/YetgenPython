{
 "cells": [
  {
   "attachments": {},
   "cell_type": "markdown",
   "metadata": {},
   "source": [
    "# Problem 1"
   ]
  },
  {
   "cell_type": "code",
   "execution_count": null,
   "metadata": {},
   "outputs": [],
   "source": [
    "# 1 - numpy kütüphanesini import edin \n",
    "\n",
    "# 2 - 0 ile 10 arasında 5 sayıdan oluşan matris üretin\n",
    "\n",
    "# 3 - matris'in boyutunu öğrenin\n",
    "\n",
    "# 4 - matris'i yeniden boyutlandırın\n",
    "\n",
    "# 5 - matris'in boyut sayısını öğreni\n",
    "\n",
    "import numpy as np\n",
    "\n",
    "matris = np.random.randint(0, 10, size=(5))\n",
    "\n",
    "boyut = matris.shape\n",
    "\n",
    "matris_yeniden_boyutlandirilmis = matris.reshape(5, 1)\n",
    "\n",
    "boyut_sayisi = matris.ndim\n",
    "\n",
    "print(\"Matris:\")\n",
    "print(matris)\n",
    "\n",
    "print(\"Matris boyutu:\")\n",
    "print(boyut)\n",
    "\n",
    "print(\"Matris yeniden boyutlandırılmış hali:\")\n",
    "print(matris_yeniden_boyutlandirilmis)\n",
    "\n",
    "print(\"Matris boyut sayısı:\")\n",
    "print(boyut_sayisi)\n"
   ]
  },
  {
   "attachments": {},
   "cell_type": "markdown",
   "metadata": {},
   "source": [
    "# Problem 2"
   ]
  },
  {
   "cell_type": "code",
   "execution_count": null,
   "metadata": {},
   "outputs": [],
   "source": [
    "# 1 - 0 ile 10 arasında bulunan tek sayılardan oluşan matris üretin\n",
    "\n",
    "# 2 - Oluşturduğunuz matrisi parçalayın\n",
    "\n",
    "# 3 - Parçalanmış matrisleri birleştirin\n",
    "\n",
    "import numpy as np\n",
    "\n",
    "matris = np.arange(1, 11, 2).reshape(5, 1)\n",
    "\n",
    "parcalanmis_matris = np.array_split(matris, 5)\n",
    "\n",
    "birlesmis_matris = np.concatenate(parcalanmis_matris, axis=1)\n",
    "\n",
    "print(\"Matris:\")\n",
    "print(matris)\n",
    "\n",
    "print(\"Parçalanmış matrisler:\")\n",
    "print(parcalanmis_matris)\n",
    "\n",
    "print(\"Birleştirilmiş matris:\")\n",
    "print(birlesmis_matris)\n"
   ]
  },
  {
   "attachments": {},
   "cell_type": "markdown",
   "metadata": {},
   "source": [
    "# Problem 3"
   ]
  },
  {
   "cell_type": "code",
   "execution_count": null,
   "metadata": {},
   "outputs": [],
   "source": [
    "# 1 - 5 ile 100 arasında ikişer ikişer atlayarak rastgele 10 sayıdan oluşan matris üretin\n",
    "\n",
    "# 2 - matris'in özelliklerini inceleyin\n",
    "\n",
    "import numpy as np\n",
    "\n",
    "# 5 ile 100 arasında ikişer ikişer atlayarak rastgele 10 sayıdan oluşan matris üretin\n",
    "matris = np.random.choice(np.arange(5, 101, 2), size=(5, 2), replace=False)\n",
    "\n",
    "# Matris'in özelliklerini inceleyin\n",
    "print(\"Matris:\")\n",
    "print(matris)\n",
    "print(\"Boyutu:\", matris.shape)\n",
    "print(\"Boyut sayısı:\", matris.ndim)\n",
    "print(\"Eleman sayısı:\", matris.size)\n",
    "print(\"Veri tipi:\", matris.dtype)\n",
    "print(\"Bellek boyutu:\", matris.nbytes, \"byte\")\n",
    "\n"
   ]
  }
 ],
 "metadata": {
  "kernelspec": {
   "display_name": "Python 3",
   "language": "python",
   "name": "python3"
  },
  "language_info": {
   "name": "python",
   "version": "3.10.5 (tags/v3.10.5:f377153, Jun  6 2022, 16:14:13) [MSC v.1929 64 bit (AMD64)]"
  },
  "orig_nbformat": 4,
  "vscode": {
   "interpreter": {
    "hash": "5026d2d6e7aaaaba093def813beadff083d8733e4a511af01735cbabd156995d"
   }
  }
 },
 "nbformat": 4,
 "nbformat_minor": 2
}

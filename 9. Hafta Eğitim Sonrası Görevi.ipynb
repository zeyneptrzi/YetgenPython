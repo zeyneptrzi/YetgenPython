{
 "cells": [
  {
   "attachments": {},
   "cell_type": "markdown",
   "metadata": {},
   "source": [
    "# Problem 1\n",
    "\n",
    "Kumanda isminde bir sınıf oluşturarak aşağıdaki işlemleri yapmasını sağlayan fonksiyonları sınıf içerisinde yazalım.\n",
    "1. Tv Aç\n",
    "2. Tv Kapat\n",
    "3. Ses Ayarları\n",
    "4. Kanal Ekle\n",
    "5. Kanal Sayısını Öğrenme\n",
    "6. Rastgele Kanala Geçme\n",
    "7. Televizyon Bilgileri\n",
    "\n",
    "\n",
    "Kumandayı kapatmak için q tuşuna basılmalı ve diğer durumlarda hangi işlemi yapmak istediği sorulmalıdır. Her işlemde gerekli fonksiyonunun sınıf içerisinden çağırılması gerekmektedir.\n",
    "\n",
    "random ve time kütüphanesini araştırarak kullanabilirsiniz.\n",
    "\n",
    "Kendi istediğiniz özellikleri eklemekte serbetsiniz."
   ]
  },
  {
   "cell_type": "code",
   "execution_count": null,
   "metadata": {},
   "outputs": [],
   "source": [
    "class kumanda:\n",
    "     def __init__(self):\n",
    "          self.durum= False\n",
    "          self.ses=0\n",
    "          self.liste= [\"TRT\", \"Fox\", \"Show\", \"CNN\", \"NTV\"]\n",
    "          self.kanal= \"Fox\"\n",
    "\n",
    "     def tv_aç(self):\n",
    "          if self.durum:\n",
    "               print(\"televizyon zaten açık\")\n",
    "\n",
    "          else:\n",
    "               print(\"televizyon açılıyor\")\n",
    "               self.durum=True\n",
    "\n",
    "     def tv_kapat(self):\n",
    "          if self.durum:\n",
    "               print(\"televizyon zaten kapalı\")\n",
    "               self.durum=False\n",
    "          else:\n",
    "               print(\"televizyonu kapatmak içi 'q'ya basınız.\") \n",
    "     \n",
    "     def ses(self):\n",
    "          while True:\n",
    "               cevap= input(\"sesi azaltmak için '<', arttırmak için '>' tuşuna basınız.\")\n",
    "               if cevap == \"<\":\n",
    "                    if self.ses != 0:\n",
    "                     self.ses -= 1\n",
    "                     print(\"Ses:\", self.ses)\n",
    "               elif cevap==\">\":\n",
    "                    if self.ses !=100:\n",
    "                     self.ses+=1\n",
    "                     print(\"ses:\", self.ses)\n",
    "\n",
    "     def kanal(self):\n",
    "          print(\"Kanal ekleniyor...\")\n",
    "          self.liste.append(kanal)\n",
    "          print(\"Kanal eklendi.\")\n",
    "      \n",
    "     def sayı(self):\n",
    "          print(\"Toplam\", len(self.liste), \"kanal var.\")\n",
    "     \n",
    "     def rastgele(self):\n",
    "          rastgele = random.randint(0, len(self.kanal_listesi)-1)\n",
    "          self.kanal = self.liste[rastgele]\n",
    "          print(\"Şu anki kanal:\", self.kanal)\n",
    "\n",
    "     def bilgi(self):\n",
    "          print(self.liste)\n",
    "\n",
    "               \n",
    "kumanda= kumanda()\n",
    "print(kumanda)\n",
    "\n",
    "\n",
    "\n",
    "#self.tv_durum = False : Televizyonun durumu başlangıçta kapalıdır. self.tv_durum değişkeni True olursa televizyon açık, False olursa kapalıdır.\n",
    "#self.ses = 0 : Televizyonun sesi başlangıçta 0 (sessiz) olarak ayarlanır.\n",
    "#self.kanal_listesi = [\"TRT\", \"Fox\", \"Show\", \"CNN\", \"NTV\"] : Kumandada bulunan kanal listesi self.kanal_listesi değişkeninde tutulur. Başlangıçta varsayılan olarak beş kanal vardır.\n",
    "#self.kanal = \"TRT\" : Televizyon açıldığında varsayılan kanal \"TRT\" olarak ayarlanır. self.kanal değişkeni üzerinden yönetilir.\n",
    "\n",
    "#random.randint(0, len(self.kanal_listesi)-1) ifadesi, 0 ile self.kanal_listesi listesinin uzunluğu arasında (dahil) rastgele bir tamsayı seçmek için kullanılır. \n",
    "#Bu ifade, self.kanal_listesi listesindeki her bir öge için bir indeks belirlemek için kullanılır.\n",
    "          "
   ]
  }
 ],
 "metadata": {
  "kernelspec": {
   "display_name": "Python 3",
   "language": "python",
   "name": "python3"
  },
  "language_info": {
   "name": "python",
   "version": "3.10.5 (tags/v3.10.5:f377153, Jun  6 2022, 16:14:13) [MSC v.1929 64 bit (AMD64)]"
  },
  "orig_nbformat": 4,
  "vscode": {
   "interpreter": {
    "hash": "5026d2d6e7aaaaba093def813beadff083d8733e4a511af01735cbabd156995d"
   }
  }
 },
 "nbformat": 4,
 "nbformat_minor": 2
}
